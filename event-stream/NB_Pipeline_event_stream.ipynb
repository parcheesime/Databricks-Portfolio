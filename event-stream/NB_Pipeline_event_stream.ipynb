{
 "cells": [
  {
   "cell_type": "markdown",
   "metadata": {
    "application/vnd.databricks.v1+cell": {
     "cellMetadata": {},
     "inputWidgets": {},
     "nuid": "888e2fb5-5f61-4105-97b4-d724bc9e05b6",
     "showTitle": false,
     "title": ""
    }
   },
   "source": [
    "LinQ User Log Data Stream\n",
    "\n",
    "[DDL LinQ User Log Info](https://dbc-2c417bf1-de85.cloud.databricks.com/?o=3218536095592070#notebook/2075143146396255/command/298267976626763)\n"
   ]
  },
  {
   "cell_type": "code",
   "execution_count": null,
   "metadata": {
    "application/vnd.databricks.v1+cell": {
     "cellMetadata": {
      "byteLimit": 2048000,
      "rowLimit": 10000
     },
     "inputWidgets": {},
     "nuid": "05aef091-9590-42d6-9457-d54688c5a5b5",
     "showTitle": false,
     "title": ""
    }
   },
   "outputs": [],
   "source": [
    "from pyspark.sql.types import StructType, StructField, StringType, LongType, ArrayType, TimestampType\n",
    "import pyspark.sql.functions as F\n",
    "import datetime\n",
    "import boto3\n",
    "import pytz\n",
    "\n",
    "todaysDate= datetime.datetime.now(pytz.timezone('US/Eastern')).strftime(\"%Y%m%d\")"
   ]
  },
  {
   "cell_type": "code",
   "execution_count": null,
   "metadata": {},
   "outputs": [],
   "source": [
    "# variables for paths\n",
    "s3_bucket = \"<work-s3-bucket>\"\n",
    "data_directory = \"<data_directory>\"\n",
    "checkpoint_directory = \"<checkpoint_directory>\""
   ]
  },
  {
   "cell_type": "code",
   "execution_count": null,
   "metadata": {
    "application/vnd.databricks.v1+cell": {
     "cellMetadata": {
      "byteLimit": 2048000,
      "rowLimit": 10000
     },
     "inputWidgets": {},
     "nuid": "fd6d06f0-2946-4af2-8d8d-b243d1dacc75",
     "showTitle": true,
     "title": "Data stream"
    }
   },
   "outputs": [],
   "source": [
    "eventSchema = StructType([\n",
    "    StructField(\"cusip\", StringType(), True),\n",
    "    StructField(\"organization\", StringType(), True),\n",
    "    StructField(\"path\", StringType(), True),\n",
    "    StructField(\"role\", StringType(), True),\n",
    "    StructField(\"source\", StringType(), True),\n",
    "    StructField(\"user\", StringType(), True)\n",
    "])\n",
    "\n",
    "finalSchema = StructType([\n",
    "    StructField(\"Event\", ArrayType(eventSchema), True)\n",
    "])\n",
    "\n",
    "# Read data using readStream\n",
    "incoming = spark.readStream.format(\"cloudFiles\") \\\n",
    "    .option(\"cloudFiles.format\", \"json\") \\\n",
    "    .option(\"wholeText\", \"true\") \\\n",
    "    .option(\"ignoreMissingFiles\", \"true\") \\\n",
    "    .schema(finalSchema) \\\n",
    "    .load(\"/mnt/Raw_Bucket/application_data/DataLogs/\") \\\n",
    "        .select(\"*\", \"_metadata.file_path\", \"_metadata.file_name\", \"_metadata.file_modification_time\") \\\n",
    "        .withColumn(\"file_modification_date\", F.to_date(\"file_modification_time\")) \\\n",
    "        .withColumn(\"file_modification_time\", F.date_format(\"file_modification_time\", \"HH:mm:ss\")) \\\n",
    "        .withColumn(\"utc_processing_time\", F.current_timestamp()) \\\n",
    "        .withColumn(\"Event\", F.explode(\"Event\"))\n"
   ]
  },
  {
   "cell_type": "code",
   "execution_count": null,
   "metadata": {
    "application/vnd.databricks.v1+cell": {
     "cellMetadata": {
      "byteLimit": 2048000,
      "rowLimit": 10000
     },
     "inputWidgets": {},
     "nuid": "739313ce-6f21-4513-8703-e014af2c6180",
     "showTitle": true,
     "title": "Explode "
    }
   },
   "outputs": [],
   "source": [
    "# explode and save df\n",
    "exploded_incoming = incoming.select(\n",
    "    incoming[\"Event\"][\"cusip\"].alias(\"cusip\"),\n",
    "    incoming[\"Event\"][\"organization\"].alias(\"org\"),\n",
    "    incoming[\"Event\"][\"role\"].alias(\"role\"),\n",
    "    incoming[\"Event\"][\"source\"].alias(\"source\"),\n",
    "    incoming[\"Event\"][\"user\"].alias(\"user\"),\n",
    "    \"file_modification_date\",\n",
    "    \"file_modification_time\",\n",
    "    \"utc_processing_time\",\n",
    "    incoming[\"Event\"][\"path\"].alias(\"path\"),\n",
    "    \"file_name\",\n",
    "    \"file_path\"    \n",
    "    )\n"
   ]
  },
  {
   "cell_type": "code",
   "execution_count": null,
   "metadata": {
    "application/vnd.databricks.v1+cell": {
     "cellMetadata": {
      "byteLimit": 2048000,
      "rowLimit": 10000
     },
     "inputWidgets": {},
     "nuid": "ab92cb26-2d28-456d-b828-9367abfb8ba2",
     "showTitle": true,
     "title": "Write to table"
    }
   },
   "outputs": [
    {
     "name": "stdout",
     "output_type": "stream",
     "text": [
      "Out[4]: <pyspark.sql.streaming.query.StreamingQuery at 0xffff786addf0>"
     ]
    }
   ],
   "source": [
    "# Write stream to table using f-string for paths\n",
    "exploded_incoming.writeStream \\\n",
    "    .format(\"delta\") \\\n",
    "    .option(\"cloudFiles.inferColumnTypes\", \"true\") \\\n",
    "    .option(\"checkpointLocation\", f\"s3://{s3_bucket}/{checkpoint_directory}/{todays_date}\") \\\n",
    "    .start(f's3://{s3_bucket}/{data_directory}/')"
   ]
  }
 ],
 "metadata": {
  "application/vnd.databricks.v1+notebook": {
   "dashboards": [],
   "language": "python",
   "notebookMetadata": {
    "mostRecentlyExecutedCommandWithImplicitDF": {
     "commandId": 2508379525118377,
     "dataframes": [
      "_sqldf"
     ]
    },
    "pythonIndentUnit": 4
   },
   "notebookName": "NB_Pipeline_LinQ_user_logs_stream_event",
   "widgets": {}
  },
  "language_info": {
   "name": "python"
  }
 },
 "nbformat": 4,
 "nbformat_minor": 0
}
