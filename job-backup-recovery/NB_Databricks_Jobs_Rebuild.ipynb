{
 "cells": [
  {
   "cell_type": "code",
   "execution_count": null,
   "metadata": {
    "application/vnd.databricks.v1+cell": {
     "cellMetadata": {
      "byteLimit": 2048000,
      "rowLimit": 10000
     },
     "inputWidgets": {},
     "nuid": "0b2f7a07-c9bb-46c7-9083-be88706a0897",
     "showTitle": false,
     "title": ""
    }
   },
   "outputs": [],
   "source": [
    "#-----------------------------------------------------------------------Rebuild a lost Databricks Job-------------------------------------------------------------------\n",
    "# Get a job id to create a backup for from the Databricks Jobs Lookup link, Or search json data to find job id using the function get_all_files_from_s3(bucket, folder).\n",
    "# When no date is supplied for create_job_from_settings() the date will default to today. For refrence, all jobs are backed up on Wednesday, use a Wednesday date.\n",
    "# The Google sheet, https://docs.google.com/spreadsheets/d/1C_5SaXWytuWL_7GlNVVypMLTrUza6kmn7v746-0omDg/edit#gid=0, has a quick view of the last copy of jobs information including id."
   ]
  },
  {
   "cell_type": "code",
   "execution_count": null,
   "metadata": {
    "application/vnd.databricks.v1+cell": {
     "cellMetadata": {
      "byteLimit": 2048000,
      "rowLimit": 10000
     },
     "inputWidgets": {},
     "nuid": "7b2c165e-b1c2-42b4-a48b-b5d02292cddd",
     "showTitle": true,
     "title": "Libraries"
    }
   },
   "outputs": [],
   "source": [
    "import requests\n",
    "import json\n",
    "import pandas as pd\n",
    "from datetime import date\n",
    "import boto3\n",
    "import os\n",
    "from urllib.parse import urljoin"
   ]
  },
  {
   "cell_type": "code",
   "execution_count": null,
   "metadata": {
    "application/vnd.databricks.v1+cell": {
     "cellMetadata": {
      "byteLimit": 2048000,
      "rowLimit": 10000
     },
     "inputWidgets": {},
     "nuid": "13dcf0e3-66b5-4798-ab3a-e938b58b4453",
     "showTitle": true,
     "title": "Variables"
    }
   },
   "outputs": [],
   "source": [
    "DBATSECRETSCOPE = \"Production-ELT\"\n",
    "DBPATKEY = \"DB_API_Token\"\n",
    "\n",
    "host_token = dbutils.secrets.get(DBATSECRETSCOPE, DBPATKEY)\n",
    "\n",
    "# API key to authenticate with the Databricks REST API\n",
    "headers = {\"Authorization\": \"Bearer \" + host_token}\n",
    "\n",
    "# configure the Databricks workspace URL\n",
    "host_name = \"<work-host-name>\"\n",
    "\n",
    "# accessing AWS S3 \n",
    "bucket = '<s3-bucket>'\n",
    "folder = 'databricks-jobs-folder/'\n",
    "# Initialize the S3 client\n",
    "s3 = boto3.client('s3')"
   ]
  },
  {
   "cell_type": "code",
   "execution_count": null,
   "metadata": {
    "application/vnd.databricks.v1+cell": {
     "cellMetadata": {
      "byteLimit": 2048000,
      "rowLimit": 10000
     },
     "inputWidgets": {},
     "nuid": "3b650790-14c6-4daa-b7f8-3db142ee2a99",
     "showTitle": true,
     "title": "Functions"
    }
   },
   "outputs": [],
   "source": [
    "%run \"/PROD/Reuseable_Code/nb_prod_functions_job_backup_rebuild\""
   ]
  },
  {
   "cell_type": "code",
   "execution_count": null,
   "metadata": {
    "application/vnd.databricks.v1+cell": {
     "cellMetadata": {
      "byteLimit": 2048000,
      "rowLimit": 10000
     },
     "inputWidgets": {},
     "nuid": "68b738b6-f56e-4758-834b-de28b671e9f6",
     "showTitle": true,
     "title": "Search JSON Files"
    },
    "jupyter": {
     "outputs_hidden": true
    }
   },
   "outputs": [],
   "source": [
    "# print meta file data to get a desired file date\n",
    "jobs = get_all_files_from_s3(bucket, folder)\n",
    "for job in jobs:\n",
    "      print((job))"
   ]
  },
  {
   "cell_type": "code",
   "execution_count": null,
   "metadata": {
    "application/vnd.databricks.v1+cell": {
     "cellMetadata": {
      "byteLimit": 2048000,
      "rowLimit": 10000
     },
     "inputWidgets": {},
     "nuid": "822b1686-89f8-4201-a106-42c43ca7c975",
     "showTitle": true,
     "title": "Example: Recreate Single Job and PAUSE it"
    }
   },
   "outputs": [],
   "source": [
    "# # Example on how to rebuild a job\n",
    "# # Use job ID that you want to rebuild\n",
    "# # default day is current day OR use get_job_from_s3(bucket_name, prefix, job_id, specific_date=None), \n",
    "# # where specific_date is a date in AWS bucket file\n",
    "# job = get_job_from_s3(bucket, folder, '1037094093858028')\n",
    "# # get settings\n",
    "# settings = job['settings']\n",
    "# # pause job\n",
    "# settings['schedule']['pause_status'] = 'PAUSED'\n",
    "\n",
    "# create_job_from_settings(host_name, headers, settings)"
   ]
  }
 ],
 "metadata": {
  "application/vnd.databricks.v1+notebook": {
   "dashboards": [],
   "language": "python",
   "notebookMetadata": {
    "pythonIndentUnit": 4
   },
   "notebookName": "NB_Databricks_Jobs_Rebuild",
   "widgets": {}
  },
  "language_info": {
   "name": "python"
  }
 },
 "nbformat": 4,
 "nbformat_minor": 0
}
