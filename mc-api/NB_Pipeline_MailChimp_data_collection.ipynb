{
 "cells": [
  {
   "cell_type": "code",
   "execution_count": null,
   "metadata": {
    "application/vnd.databricks.v1+cell": {
     "cellMetadata": {
      "byteLimit": 2048000,
      "rowLimit": 10000
     },
     "inputWidgets": {},
     "nuid": "f9ee6585-cc76-4b10-8fb8-6c475eabbca6",
     "showTitle": true,
     "title": "Imports"
    }
   },
   "outputs": [],
   "source": [
    "# necessary libraries\n",
    "import mailchimp_marketing as MailchimpMarketing\n",
    "from mailchimp_marketing.api_client import ApiClientError\n",
    "import pandas as pd\n",
    "import json\n",
    "import hashlib"
   ]
  },
  {
   "cell_type": "code",
   "execution_count": null,
   "metadata": {
    "application/vnd.databricks.v1+cell": {
     "cellMetadata": {
      "byteLimit": 2048000,
      "rowLimit": 10000
     },
     "inputWidgets": {},
     "nuid": "9c950e01-e03c-4b5c-9ad0-065a248d373c",
     "showTitle": true,
     "title": "Variables"
    }
   },
   "outputs": [],
   "source": [
    "# client configuration\n",
    "client = MailchimpMarketing.Client()\n",
    "client.set_config({\n",
    "    \"api_key\": \"API_KEY\",\n",
    "    \"server\": \"us10\"\n",
    "})\n",
    "\n",
    "# get current audience id\n",
    "list_id = \"<audience-id>\" #all FREE reports audience\n"
   ]
  },
  {
   "cell_type": "code",
   "execution_count": null,
   "metadata": {
    "application/vnd.databricks.v1+cell": {
     "cellMetadata": {
      "byteLimit": 2048000,
      "rowLimit": 10000
     },
     "inputWidgets": {},
     "nuid": "1b57a32d-cc46-4b62-999b-3486c180b41c",
     "showTitle": true,
     "title": "List Info"
    }
   },
   "outputs": [],
   "source": [
    "response = client.lists.get_list(list_id)\n",
    "# response"
   ]
  },
  {
   "cell_type": "code",
   "execution_count": null,
   "metadata": {
    "application/vnd.databricks.v1+cell": {
     "cellMetadata": {
      "byteLimit": 2048000,
      "rowLimit": 10000
     },
     "inputWidgets": {},
     "nuid": "b7e8f6c7-4007-4863-a0b2-3201428c4b2e",
     "showTitle": true,
     "title": "Get Member Info by Audience"
    }
   },
   "outputs": [],
   "source": [
    "# get current audience data\n",
    "all_members = []\n",
    "\n",
    "try:\n",
    "    offset = 0\n",
    "    limit = 1000\n",
    "    while True:\n",
    "        response = client.lists.get_list_members_info(list_id, count=limit, offset=offset)\n",
    "        members = response[\"members\"]\n",
    "        \n",
    "        # Check for members\n",
    "        if members:\n",
    "            all_members.extend(members)\n",
    "            offset += limit\n",
    "        else:\n",
    "            break\n",
    "\n",
    "    print(\"Total members:\", len(all_members))\n",
    "    # print(all_members)\n",
    "\n",
    "except MailchimpMarketing.ApiClientError as error:\n",
    "    print(\"Error: {}\".format(error.text))\n",
    "\n",
    "members_data = []\n",
    "\n",
    "for member in all_members:\n",
    "    if member[\"list_id\"] == list_id:\n",
    "        member_info = {\n",
    "            \"id\": member['id'],\n",
    "            \"email_address\": member['email_address'],\n",
    "            \"full_name\": member['full_name'],\n",
    "                \"FNAME\": member['merge_fields']['FNAME'],\n",
    "                \"LNAME\": member['merge_fields']['LNAME'],\n",
    "                \"ADDRESS\": member['merge_fields']['ADDRESS'],\n",
    "                \"PHONE\": member['merge_fields']['PHONE'],\n",
    "                \"FIRMNAME\": member['merge_fields']['FIRMNAME'],\n",
    "                \"FIRMCLASS\": member['merge_fields']['FIRMCLASS'],\n",
    "            \"timestamp_signup\": member['timestamp_signup'],\n",
    "            \"timestamp_opt\": member['timestamp_opt'],\n",
    "            \"last_changed\": member['last_changed'],\n",
    "            \"status\": member['status'],\n",
    "            \"avg_open_rate\": member['stats']['avg_open_rate'],\n",
    "            \"avg_click_rate\": member['stats']['avg_click_rate']\n",
    "        }\n",
    "        members_data.append(member_info)\n",
    "import json\n",
    " # Print the formatted JSON\n",
    "# print(json.dumps(members_data, indent=4))\n"
   ]
  },
  {
   "cell_type": "code",
   "execution_count": null,
   "metadata": {
    "application/vnd.databricks.v1+cell": {
     "cellMetadata": {
      "byteLimit": 2048000,
      "rowLimit": 10000
     },
     "inputWidgets": {},
     "nuid": "e010f826-f70c-4557-8c83-ab0dc53ea185",
     "showTitle": true,
     "title": "Email list for hash"
    }
   },
   "outputs": [],
   "source": [
    "emails = [member['email_address'] for member in members_data]\n",
    "email_ids = [member['id'] for member in members_data]"
   ]
  },
  {
   "cell_type": "code",
   "execution_count": null,
   "metadata": {
    "application/vnd.databricks.v1+cell": {
     "cellMetadata": {
      "byteLimit": 2048000,
      "rowLimit": 10000
     },
     "inputWidgets": {},
     "nuid": "3c5cf1ff-66b0-4d0f-bf73-a21820f48dea",
     "showTitle": true,
     "title": "Save to table"
    }
   },
   "outputs": [],
   "source": [
    "df = pd.DataFrame(members_data)\n",
    "object_columns = ['email_address', 'full_name', 'FNAME', 'LNAME', 'ADDRESS', 'PHONE', 'FIRMNAME', 'FIRMCLASS', 'timestamp_signup', 'timestamp_opt', 'last_changed', 'status']\n",
    "df[object_columns] = df[object_columns].astype(str)"
   ]
  },
  {
   "cell_type": "code",
   "execution_count": null,
   "metadata": {
    "application/vnd.databricks.v1+cell": {
     "cellMetadata": {
      "byteLimit": 2048000,
      "rowLimit": 10000
     },
     "inputWidgets": {},
     "nuid": "a7c0263e-6851-424f-b9ad-5fd0780e2604",
     "showTitle": false,
     "title": ""
    }
   },
   "outputs": [],
   "source": [
    "# save member data\n",
    "df = spark.createDataFrame(df)\n",
    "table_path = \"common.MailChimp_AFDR_Members\"\n",
    "df.write.format(\"delta\").mode(\"append\").saveAsTable(table_path)\n",
    "\n",
    "# df.createOrReplaceTempView(\"temp_table\")"
   ]
  },
  {
   "cell_type": "code",
   "execution_count": null,
   "metadata": {
    "application/vnd.databricks.v1+cell": {
     "cellMetadata": {
      "byteLimit": 2048000,
      "rowLimit": 10000
     },
     "inputWidgets": {},
     "nuid": "4e899772-27d7-46f6-be0d-40d2034ada72",
     "showTitle": true,
     "title": "Get Campaign Info"
    }
   },
   "outputs": [],
   "source": [
    "# get campaign data\n",
    "from mailchimp_marketing.api_client import ApiClientError\n",
    "import json  # import json if you're using json.dumps\n",
    "\n",
    "all_campaigns = []  \n",
    "try:\n",
    "    offset = 0\n",
    "    limit = 1000\n",
    "    while True:\n",
    "        response = client.campaigns.list(count=limit, offset=offset)\n",
    "        campaigns = response[\"campaigns\"]\n",
    "        \n",
    "        # Check for campaigns\n",
    "        if campaigns:\n",
    "            all_campaigns.extend(campaigns)\n",
    "            offset += limit\n",
    "        else:\n",
    "            break\n",
    "except ApiClientError as error:  \n",
    "    print(\"Error: {}\".format(error.text))\n",
    "\n",
    "campaign_data = []\n",
    "for campaign in all_campaigns:\n",
    "    if campaign[\"recipients\"][\"list_id\"] == list_id:\n",
    "        campaign_info = {\n",
    "            \"id\": campaign['id'],\n",
    "            \"title\": campaign[\"settings\"][\"title\"],\n",
    "            \"list_id\": campaign[\"recipients\"][\"list_id\"],\n",
    "            \"list_name\": campaign[\"recipients\"][\"list_name\"],\n",
    "            \"create_time\": campaign['create_time'],\n",
    "            \"send_time\": campaign['send_time'],\n",
    "        }\n",
    "\n",
    "        # Try to update 'subject_line'\n",
    "        try:\n",
    "            campaign_info[\"subject_line\"] = campaign[\"settings\"][\"subject_line\"]\n",
    "        except KeyError:\n",
    "            campaign_info[\"subject_line\"] = None\n",
    "\n",
    "        # Try to update report_summary fields\n",
    "        try:\n",
    "            campaign_info.update({\n",
    "                \"opens\": campaign['report_summary']['opens'],\n",
    "                \"unique_opens\": campaign['report_summary']['unique_opens'],\n",
    "                \"open_rate\": campaign['report_summary']['open_rate'],\n",
    "                \"clicks\": campaign['report_summary']['clicks'],\n",
    "                \"subscriber_clicks\": campaign['report_summary']['subscriber_clicks'],\n",
    "                \"click_rate\": campaign['report_summary']['click_rate']\n",
    "            })\n",
    "        except Exception as e:\n",
    "            print(f\"Exception while processing campaign {campaign['id']}: {e}\")\n",
    "\n",
    "        campaign_data.append(campaign_info)\n",
    "\n",
    "# print(json.dumps(campaign_data, indent=4))"
   ]
  },
  {
   "cell_type": "code",
   "execution_count": null,
   "metadata": {
    "application/vnd.databricks.v1+cell": {
     "cellMetadata": {
      "byteLimit": 2048000,
      "rowLimit": 10000
     },
     "inputWidgets": {},
     "nuid": "bb19ee13-11e5-4d21-9c52-7b4997834df9",
     "showTitle": true,
     "title": "Save to table."
    }
   },
   "outputs": [],
   "source": [
    "df = pd.DataFrame(campaign_data)\n",
    "df = spark.createDataFrame(df)\n",
    "df.createOrReplaceTempView(\"temp_table2\")"
   ]
  },
  {
   "cell_type": "code",
   "execution_count": null,
   "metadata": {
    "application/vnd.databricks.v1+cell": {
     "cellMetadata": {
      "byteLimit": 2048000,
      "implicitDf": true,
      "rowLimit": 10000
     },
     "inputWidgets": {},
     "nuid": "8028cbb7-7c9c-46eb-bd3d-e210fe7c2028",
     "showTitle": true,
     "title": "Merge Data"
    }
   },
   "outputs": [],
   "source": [
    "%sql\n",
    "-- merge campaign data into current campaign data\n",
    "MERGE INTO common.MailChimp_AFDR_Campaign_SummaryData AS target\n",
    "USING temp_table2 AS source\n",
    "ON target.id = source.id\n",
    "WHEN MATCHED THEN\n",
    "  UPDATE SET \n",
    "    target.title = source.title,\n",
    "    target.list_id = source.list_id,\n",
    "    target.list_name = source.list_name,\n",
    "    target.subject_line = source.subject_line,\n",
    "    target.create_time = source.create_time,\n",
    "    target.send_time = source.send_time,\n",
    "    target.opens = source.opens,\n",
    "    target.unique_opens = source.unique_opens,\n",
    "    target.open_rate = source.open_rate,\n",
    "    target.clicks = source.clicks,\n",
    "    target.subscriber_clicks = source.subscriber_clicks,\n",
    "    target.click_rate = source.click_rate\n",
    "WHEN NOT MATCHED THEN\n",
    "  INSERT (id, title, list_id, list_name, subject_line, create_time, send_time, opens, unique_opens, open_rate, clicks, subscriber_clicks, click_rate) \n",
    "  VALUES (\n",
    "    source.id,\n",
    "    source.title,\n",
    "    source.list_id,\n",
    "    source.list_name,\n",
    "    source.subject_line,\n",
    "    source.create_time,\n",
    "    source.send_time,\n",
    "    source.opens,\n",
    "    source.unique_opens,\n",
    "    source.open_rate,\n",
    "    source.clicks,\n",
    "    source.subscriber_clicks,\n",
    "    source.click_rate\n",
    "  );\n"
   ]
  },
  {
   "cell_type": "code",
   "execution_count": null,
   "metadata": {
    "application/vnd.databricks.v1+cell": {
     "cellMetadata": {
      "byteLimit": 2048000,
      "implicitDf": true,
      "rowLimit": 10000
     },
     "inputWidgets": {},
     "nuid": "876eebe7-9803-40e7-b661-6d87e67cfb82",
     "showTitle": false,
     "title": ""
    }
   },
   "outputs": [],
   "source": [
    "%sql\n",
    "OPTIMIZE common.MailChimp_AFDR_Campaign_SummaryData ZORDER BY (send_time, clicks, opens);"
   ]
  },
  {
   "cell_type": "code",
   "execution_count": null,
   "metadata": {
    "application/vnd.databricks.v1+cell": {
     "cellMetadata": {
      "byteLimit": 2048000,
      "rowLimit": 10000
     },
     "inputWidgets": {},
     "nuid": "8039f897-c661-4362-a80e-03763ea92cb2",
     "showTitle": true,
     "title": "Campaign Reports"
    }
   },
   "outputs": [],
   "source": [
    "all_reports = []  \n",
    "try:\n",
    "    offset = 0\n",
    "    limit = 1000\n",
    "    while True:\n",
    "        response = client.reports.get_all_campaign_reports(count=limit, offset=offset)\n",
    "        reports = response['reports']\n",
    "        # Check for campaigns\n",
    "        if reports:\n",
    "            all_reports.extend(reports)\n",
    "            offset += limit\n",
    "        else:\n",
    "            break\n",
    "    # print(json.dumps(all_reports, indent=2))\n",
    "\n",
    "except MailchimpMarketing.ApiClientError as error:\n",
    "    print(\"Error: {}\".format(error.text))\n",
    "\n",
    "report_data = []\n",
    "for report in all_reports:\n",
    "    if report['list_id']==list_id:\n",
    "        report_info = {\n",
    "        \"id\": report['id'],\n",
    "        \"campaign_title\": report['campaign_title'],\n",
    "        \"type\": report[\"type\"],\n",
    "        \"list_id\": report['list_id'],\n",
    "        \"list_is_active\": report['list_is_active'],\n",
    "        \"list_name\": report['list_name'],\n",
    "        \"subject_line\": report['subject_line'],\n",
    "        \"preview_text\": report['preview_text'],\n",
    "        \"emails_sent\": report['emails_sent'],\n",
    "        \"abuse_reports\": report['abuse_reports'],\n",
    "        \"unsubscribed\": report['unsubscribed'],\n",
    "        \"send_time\": report['send_time'],\n",
    "        \"opens_total\": report[\"opens\"]['opens_total'],\n",
    "        \"unique_opens\": report[\"opens\"]['unique_opens'],\n",
    "        \"open_rate\": report[\"opens\"]['open_rate'],\n",
    "        \"last_open\": report[\"opens\"]['last_open'],\n",
    "        \"clicks_total\": report[\"clicks\"]['clicks_total'],\n",
    "        \"unique_clicks\": report[\"clicks\"]['unique_clicks'],\n",
    "        \"unique_subscriber_clicks\": report[\"clicks\"]['unique_subscriber_clicks'],\n",
    "        \"click_rate\": report[\"clicks\"]['click_rate'],\n",
    "        \"last_click\": report[\"clicks\"]['last_click'],\n",
    "            \"type\": report['industry_stats']['type'],\n",
    "            \"open_rate\": report['industry_stats']['open_rate'],\n",
    "            \"click_rate\": report['industry_stats']['click_rate'],\n",
    "            \"bounce_rate\": report['industry_stats']['bounce_rate'],\n",
    "            \"unopen_rate\": report['industry_stats']['unopen_rate'],\n",
    "            \"unsub_rate\": report['industry_stats']['unsub_rate'],\n",
    "            \"abuse_rate\": report['industry_stats']['abuse_rate'],\n",
    "            \"sub_rate\": report['list_stats']['sub_rate'],\n",
    "            \"unsub_rate\": report['list_stats']['unsub_rate'],\n",
    "            \"open_rate\": report['list_stats']['open_rate'],\n",
    "            \"click_rate\": report['list_stats']['click_rate']\n",
    "        }\n",
    "        report_data.append(report_info)\n",
    "\n",
    "# print(json.dumps(report_data, indent=4))       "
   ]
  },
  {
   "cell_type": "code",
   "execution_count": null,
   "metadata": {
    "application/vnd.databricks.v1+cell": {
     "cellMetadata": {
      "byteLimit": 2048000,
      "rowLimit": 10000
     },
     "inputWidgets": {},
     "nuid": "30da24a2-8517-41b2-bbf2-21c2df0446b1",
     "showTitle": true,
     "title": "Campaign ID list"
    }
   },
   "outputs": [],
   "source": [
    "cids = [cd['id'] for cd in campaign_data]     "
   ]
  },
  {
   "cell_type": "code",
   "execution_count": null,
   "metadata": {
    "application/vnd.databricks.v1+cell": {
     "cellMetadata": {
      "byteLimit": 2048000,
      "rowLimit": 10000
     },
     "inputWidgets": {},
     "nuid": "30446014-9328-429e-a09b-44385ed0cd79",
     "showTitle": true,
     "title": "Save"
    }
   },
   "outputs": [],
   "source": [
    "df = pd.DataFrame(report_data)\n",
    "df = spark.createDataFrame(df)\n",
    "df.createOrReplaceTempView(\"temp_table3\")"
   ]
  },
  {
   "cell_type": "code",
   "execution_count": null,
   "metadata": {
    "application/vnd.databricks.v1+cell": {
     "cellMetadata": {
      "byteLimit": 2048000,
      "implicitDf": true,
      "rowLimit": 10000
     },
     "inputWidgets": {},
     "nuid": "a85c204a-03f5-4662-a8ed-d0a9d341be33",
     "showTitle": true,
     "title": "Merge Data"
    }
   },
   "outputs": [],
   "source": [
    "%sql\n",
    "MERGE INTO common.MailChimp_AFDR_Campaign_ReportData AS target\n",
    "USING temp_table3 AS source\n",
    "ON target.id = source.id\n",
    "WHEN MATCHED THEN\n",
    "  UPDATE SET \n",
    "    target.campaign_title = source.campaign_title,\n",
    "    target.type = source.type,\n",
    "    target.list_id = source.list_id,\n",
    "    target.list_is_active = source.list_is_active,\n",
    "    target.list_name = source.list_name,\n",
    "    target.subject_line = source.subject_line,\n",
    "    target.preview_text = source.preview_text,\n",
    "    target.emails_sent = source.emails_sent,\n",
    "    target.abuse_reports = source.abuse_reports,\n",
    "    target.unsubscribed = source.unsubscribed,\n",
    "    target.send_time = source.send_time,\n",
    "    target.opens_total = source.opens_total,\n",
    "    target.unique_opens = source.unique_opens,\n",
    "    target.open_rate = source.open_rate,\n",
    "    target.last_open = source.last_open,\n",
    "    target.clicks_total = source.clicks_total,\n",
    "    target.unique_clicks = source.unique_clicks,\n",
    "    target.unique_subscriber_clicks = source.unique_subscriber_clicks,\n",
    "    target.click_rate = source.click_rate,\n",
    "    target.last_click = source.last_click,\n",
    "    target.bounce_rate = source.bounce_rate,\n",
    "    target.unopen_rate = source.unopen_rate,\n",
    "    target.unsub_rate = source.unsub_rate,\n",
    "    target.abuse_rate = source.abuse_rate,\n",
    "    target.sub_rate = source.sub_rate\n",
    "WHEN NOT MATCHED THEN\n",
    "  INSERT (\n",
    "    id, campaign_title, type, list_id, list_is_active, list_name, subject_line, preview_text, emails_sent, abuse_reports, unsubscribed,\n",
    "    send_time, opens_total, unique_opens, open_rate, last_open, clicks_total, unique_clicks, unique_subscriber_clicks, click_rate, \n",
    "    last_click, bounce_rate, unopen_rate, unsub_rate, abuse_rate, sub_rate\n",
    "  ) \n",
    "  VALUES (\n",
    "    source.id, source.campaign_title, source.type, source.list_id, source.list_is_active, source.list_name, source.subject_line,\n",
    "    source.preview_text, source.emails_sent, source.abuse_reports, source.unsubscribed, source.send_time, source.opens_total,\n",
    "    source.unique_opens, source.open_rate, source.last_open, source.clicks_total, source.unique_clicks, source.unique_subscriber_clicks,\n",
    "    source.click_rate, source.last_click, source.bounce_rate, source.unopen_rate, source.unsub_rate, source.abuse_rate, source.sub_rate\n",
    "  );\n"
   ]
  },
  {
   "cell_type": "code",
   "execution_count": null,
   "metadata": {
    "application/vnd.databricks.v1+cell": {
     "cellMetadata": {
      "byteLimit": 2048000,
      "implicitDf": true,
      "rowLimit": 10000
     },
     "inputWidgets": {},
     "nuid": "ed59dabb-b6f8-435c-ae5e-e733f410bdfe",
     "showTitle": false,
     "title": ""
    }
   },
   "outputs": [],
   "source": [
    "%sql\n",
    "OPTIMIZE common.MailChimp_AFDR_Campaign_ReportData ZORDER BY (id, send_time);"
   ]
  },
  {
   "cell_type": "code",
   "execution_count": null,
   "metadata": {
    "application/vnd.databricks.v1+cell": {
     "cellMetadata": {
      "byteLimit": 2048000,
      "rowLimit": 10000
     },
     "inputWidgets": {},
     "nuid": "4f65ddad-6442-47ad-a953-4872926efef1",
     "showTitle": true,
     "title": "Campaign Open Details"
    }
   },
   "outputs": [],
   "source": [
    "import json\n",
    "\n",
    "all_open_details = []\n",
    "\n",
    "for cid in cids:\n",
    "    try:\n",
    "        offset = 0\n",
    "        limit = 1000\n",
    "        while True:\n",
    "            response = client.reports.get_campaign_open_details(cid, count=limit, offset=offset)\n",
    "            details = response['members']\n",
    "            if details:\n",
    "                all_open_details.extend(details)\n",
    "                offset += limit\n",
    "            else:\n",
    "                break\n",
    "    except Exception as error:\n",
    "        print(\"Error: {}\".format(error))\n",
    "\n",
    "open_data = []\n",
    "\n",
    "for details in all_open_details:\n",
    "    open_details = {\n",
    "        \"campaign_id\": details.get('campaign_id', None),\n",
    "        \"list_id\": details.get('list_id', None),\n",
    "        \"list_is_active\": details.get('list_is_active', None),\n",
    "        \"contact_status\": details.get('contact_status', None),\n",
    "        \"email_id\": details.get('email_id', None),\n",
    "        \"email_address\": details.get('email_address', None),\n",
    "        \"vip\": details.get('vip', None),\n",
    "        \"opens_count\": details.get('opens_count', None),\n",
    "        \"opens\": details.get('opens', None)\n",
    "    }\n",
    "\n",
    "    # Handle merge_fields\n",
    "    try:\n",
    "        open_details[\"FNAME\"] = details['merge_fields']['FNAME']\n",
    "    except KeyError:\n",
    "        open_details[\"FNAME\"] = None\n",
    "\n",
    "    try:\n",
    "        open_details[\"LNAME\"] = details['merge_fields']['LNAME']\n",
    "    except KeyError:\n",
    "        open_details[\"LNAME\"] = None\n",
    "\n",
    "    try:\n",
    "        open_details[\"ADDRESS\"] = details['merge_fields']['ADDRESS']\n",
    "    except KeyError:\n",
    "        open_details[\"ADDRESS\"] = None\n",
    "\n",
    "    try:\n",
    "        open_details[\"PHONE\"] = details['merge_fields']['PHONE']\n",
    "    except KeyError:\n",
    "        open_details[\"PHONE\"] = None\n",
    "\n",
    "    try:\n",
    "        open_details[\"FIRMNAME\"] = details['merge_fields']['FIRMNAME']\n",
    "    except KeyError:\n",
    "        open_details[\"FIRMNAME\"] = None\n",
    "\n",
    "    try:\n",
    "        open_details[\"FIRMCLASS\"] = details['merge_fields']['FIRMCLASS']\n",
    "    except KeyError:\n",
    "        open_details[\"FIRMCLASS\"] = None\n",
    "\n",
    "    open_data.append(open_details)\n",
    "\n",
    "# # Print the formatted JSON\n",
    "# print(json.dumps(open_data, indent=4))\n"
   ]
  },
  {
   "cell_type": "code",
   "execution_count": null,
   "metadata": {
    "application/vnd.databricks.v1+cell": {
     "cellMetadata": {
      "byteLimit": 2048000,
      "rowLimit": 10000
     },
     "inputWidgets": {},
     "nuid": "4646f359-71aa-40bf-8cc3-b81dc9a9527d",
     "showTitle": true,
     "title": "Save"
    }
   },
   "outputs": [],
   "source": [
    "# Block 2: Create a Pandas DataFrame from Processed Data\n",
    "df = pd.DataFrame(open_data)\n",
    "\n",
    "# Explicitly convert the 'ADDRESS' column to strings in the Pandas DataFrame\n",
    "df['ADDRESS'] = df['ADDRESS'].astype(str)\n",
    "\n",
    "# Create a Spark DataFrame from the Pandas DataFrame\n",
    "df = spark.createDataFrame(df)\n",
    "\n",
    "df.createOrReplaceTempView(\"temp_table4\")"
   ]
  },
  {
   "cell_type": "code",
   "execution_count": null,
   "metadata": {
    "application/vnd.databricks.v1+cell": {
     "cellMetadata": {
      "byteLimit": 2048000,
      "implicitDf": true,
      "rowLimit": 10000
     },
     "inputWidgets": {},
     "nuid": "80f37907-0224-450b-8c5f-02f047432144",
     "showTitle": true,
     "title": "Merge Data"
    }
   },
   "outputs": [],
   "source": [
    "%sql\n",
    "MERGE INTO common.MailChimp_AFDR_Campaign_OpenDetails AS target\n",
    "USING temp_table4 AS source\n",
    "ON target.campaign_id = source.campaign_id AND target.email_id = source.email_id\n",
    "WHEN MATCHED THEN\n",
    "  UPDATE SET \n",
    "    target.list_id = source.list_id,\n",
    "    target.list_is_active = source.list_is_active,\n",
    "    target.contact_status = source.contact_status,\n",
    "    target.email_address = source.email_address,\n",
    "    target.vip = source.vip,\n",
    "    target.opens_count = source.opens_count,\n",
    "    target.opens = source.opens,\n",
    "    target.FNAME = source.FNAME,\n",
    "    target.LNAME = source.LNAME,\n",
    "    target.ADDRESS = source.ADDRESS,\n",
    "    target.PHONE = source.PHONE,\n",
    "    target.FIRMNAME = source.FIRMNAME,\n",
    "    target.FIRMCLASS = source.FIRMCLASS\n",
    "WHEN NOT MATCHED THEN\n",
    "  INSERT (\n",
    "    campaign_id, list_id, list_is_active, contact_status, email_id, email_address, vip, opens_count, opens,\n",
    "    FNAME, LNAME, ADDRESS, PHONE, FIRMNAME, FIRMCLASS\n",
    "  ) \n",
    "  VALUES (\n",
    "    source.campaign_id, source.list_id, source.list_is_active, source.contact_status, source.email_id,\n",
    "    source.email_address, source.vip, source.opens_count, source.opens, source.FNAME, source.LNAME,\n",
    "    source.ADDRESS, source.PHONE, source.FIRMNAME, source.FIRMCLASS\n",
    "  );\n"
   ]
  },
  {
   "cell_type": "code",
   "execution_count": null,
   "metadata": {
    "application/vnd.databricks.v1+cell": {
     "cellMetadata": {
      "byteLimit": 2048000,
      "implicitDf": true,
      "rowLimit": 10000
     },
     "inputWidgets": {},
     "nuid": "1d5d8c6d-95e3-40a4-9f75-19fb5b4bcd3a",
     "showTitle": false,
     "title": ""
    }
   },
   "outputs": [],
   "source": [
    "%sql\n",
    "OPTIMIZE common.MailChimp_AFDR_Campaign_OpenDetails ZORDER BY (campaign_id, email_id, opens);"
   ]
  },
  {
   "cell_type": "code",
   "execution_count": null,
   "metadata": {
    "application/vnd.databricks.v1+cell": {
     "cellMetadata": {
      "byteLimit": 2048000,
      "rowLimit": 10000
     },
     "inputWidgets": {},
     "nuid": "139e223a-8686-4df3-a78f-41b853bb257e",
     "showTitle": true,
     "title": "Click Details by Campaign"
    }
   },
   "outputs": [],
   "source": [
    "urls_clicked_all = []\n",
    "\n",
    "for cid in cids:\n",
    "    try:\n",
    "        offset = 0\n",
    "        limit = 1000\n",
    "        while True:\n",
    "            response = client.reports.get_campaign_click_details(cid, count=limit, offset=offset)\n",
    "            clicked = response[\"urls_clicked\"]\n",
    "            if clicked:\n",
    "                urls_clicked_all.extend(clicked)\n",
    "                offset += limit\n",
    "            else:\n",
    "                break\n",
    "    except Exception as error:\n",
    "        print(\"Error: {}\".format(error))\n",
    "\n",
    "click_data = []\n",
    "for urls in urls_clicked_all:\n",
    "    urls_clicked = {\n",
    "    'id': urls['id'],\n",
    "    'url': urls['url'],\n",
    "    'total_clicks': urls['total_clicks'],\n",
    "    'click_percentage': urls['click_percentage'],\n",
    "    'unique_clicks': urls['unique_clicks'],\n",
    "    'unique_click_percentage': urls['unique_click_percentage'],\n",
    "    'last_click': urls['last_click'],\n",
    "    'campaign_id': urls['campaign_id']\n",
    "    }\n",
    "    click_data.append(urls_clicked)\n",
    "# print(json.dumps(click_data, indent=4)) "
   ]
  },
  {
   "cell_type": "code",
   "execution_count": null,
   "metadata": {
    "application/vnd.databricks.v1+cell": {
     "cellMetadata": {
      "byteLimit": 2048000,
      "rowLimit": 10000
     },
     "inputWidgets": {},
     "nuid": "c1017cd6-0e76-4bf0-ace8-b808b26c4e8d",
     "showTitle": true,
     "title": "Save"
    }
   },
   "outputs": [],
   "source": [
    "df = pd.DataFrame(click_data)\n",
    "df = spark.createDataFrame(df)\n",
    "df.createOrReplaceTempView(\"temp_table5\")"
   ]
  },
  {
   "cell_type": "code",
   "execution_count": null,
   "metadata": {
    "application/vnd.databricks.v1+cell": {
     "cellMetadata": {
      "byteLimit": 2048000,
      "implicitDf": true,
      "rowLimit": 10000
     },
     "inputWidgets": {},
     "nuid": "72e0cb8f-b7fc-4fcd-994f-08f774d75759",
     "showTitle": true,
     "title": "Merge Data"
    }
   },
   "outputs": [],
   "source": [
    "%sql\n",
    "MERGE INTO common.MailChimp_AFDR_Campaign_ClickDetails AS target\n",
    "USING temp_table5 AS source\n",
    "ON target.id = source.id AND target.campaign_id = source.campaign_id\n",
    "WHEN MATCHED THEN\n",
    "  UPDATE SET \n",
    "    target.url = source.url,\n",
    "    target.total_clicks = source.total_clicks,\n",
    "    target.click_percentage = source.click_percentage,\n",
    "    target.unique_clicks = source.unique_clicks,\n",
    "    target.unique_click_percentage = source.unique_click_percentage,\n",
    "    target.last_click = source.last_click\n",
    "WHEN NOT MATCHED THEN\n",
    "  INSERT (\n",
    "    id, url, total_clicks, click_percentage, unique_clicks, unique_click_percentage, last_click, campaign_id\n",
    "  ) \n",
    "  VALUES (\n",
    "    source.id, source.url, source.total_clicks, source.click_percentage, source.unique_clicks, source.unique_click_percentage, source.last_click, source.campaign_id\n",
    "  );\n"
   ]
  },
  {
   "cell_type": "code",
   "execution_count": null,
   "metadata": {
    "application/vnd.databricks.v1+cell": {
     "cellMetadata": {
      "byteLimit": 2048000,
      "implicitDf": true,
      "rowLimit": 10000
     },
     "inputWidgets": {},
     "nuid": "2f55bb51-0977-4ff5-9ca8-8b61f1c9174b",
     "showTitle": false,
     "title": ""
    }
   },
   "outputs": [],
   "source": [
    "%sql\n",
    "OPTIMIZE common.MailChimp_AFDR_Campaign_ClickDetails ZORDER BY (id, campaign_id, url);"
   ]
  },
  {
   "cell_type": "code",
   "execution_count": null,
   "metadata": {
    "application/vnd.databricks.v1+cell": {
     "cellMetadata": {
      "byteLimit": 2048000,
      "rowLimit": 10000
     },
     "inputWidgets": {},
     "nuid": "50054652-0cf1-4c24-8ed4-0da1ebba44f2",
     "showTitle": true,
     "title": "Unsubscribes by Campaign"
    }
   },
   "outputs": [],
   "source": [
    "unsub_all = []\n",
    "for cid in cids:\n",
    "    try:\n",
    "        offset = 0\n",
    "        limit = 1000\n",
    "        while True:\n",
    "            response = client.reports.get_unsubscribed_list_for_campaign(cid, offset=offset, count=limit)\n",
    "            unsubs = response['unsubscribes']\n",
    "            if unsubs:\n",
    "                unsub_all.extend(unsubs)\n",
    "                offset += limit\n",
    "            else:\n",
    "                break\n",
    "    except Exception as error:\n",
    "        print(\"Error: {}\".format(error))\n",
    "\n",
    "unsub_data = []\n",
    "for unsub in unsub_all:\n",
    "    unsub_details = {'email_id': unsub['email_id'],\n",
    "    'email_address': unsub['email_address'],\n",
    "    \"FNAME\": unsub['merge_fields']['FNAME'],\n",
    "        \"LNAME\": unsub['merge_fields']['LNAME'],\n",
    "        \"ADDRESS\": unsub['merge_fields']['ADDRESS'],\n",
    "        \"PHONE\": unsub['merge_fields']['PHONE'],\n",
    "        \"FIRMNAME\": unsub['merge_fields']['FIRMNAME'],\n",
    "        \"FIRMCLASS\": unsub['merge_fields']['FIRMCLASS'],\n",
    "    'vip': unsub['vip'],\n",
    "    'timestamp': unsub['timestamp'],\n",
    "    'reason': unsub['reason'],\n",
    "    'campaign_id': unsub['campaign_id'],\n",
    "    'list_id': unsub['list_id'],\n",
    "    'list_is_active': unsub['list_is_active']\n",
    "    }\n",
    "    unsub_data.append(unsub_details)\n",
    "# print(json.dumps(unsub_data, indent=2))"
   ]
  },
  {
   "cell_type": "code",
   "execution_count": null,
   "metadata": {
    "application/vnd.databricks.v1+cell": {
     "cellMetadata": {
      "byteLimit": 2048000,
      "rowLimit": 10000
     },
     "inputWidgets": {},
     "nuid": "45fc6c3a-32e4-43f6-8e1d-75eb42b9201f",
     "showTitle": true,
     "title": "Save"
    }
   },
   "outputs": [],
   "source": [
    "df = pd.DataFrame(unsub_data)\n",
    "df = spark.createDataFrame(df)\n",
    "df.createOrReplaceTempView(\"temp_table6\")"
   ]
  },
  {
   "cell_type": "code",
   "execution_count": null,
   "metadata": {
    "application/vnd.databricks.v1+cell": {
     "cellMetadata": {
      "byteLimit": 2048000,
      "implicitDf": true,
      "rowLimit": 10000
     },
     "inputWidgets": {},
     "nuid": "7d67dcfc-e837-4059-98a6-3c75acd11db5",
     "showTitle": false,
     "title": ""
    }
   },
   "outputs": [],
   "source": [
    "%sql\n",
    "MERGE INTO common.MailChimp_AFDR_Campaign_UnsubscribedDetails AS target\n",
    "USING temp_table6 AS source\n",
    "ON target.email_id = source.email_id AND target.campaign_id = source.campaign_id\n",
    "WHEN MATCHED THEN\n",
    "  UPDATE SET \n",
    "    target.email_address = source.email_address,\n",
    "    target.FNAME = source.FNAME,\n",
    "    target.LNAME = source.LNAME,\n",
    "    target.ADDRESS = source.ADDRESS,\n",
    "    target.PHONE = source.PHONE,\n",
    "    target.FIRMNAME = source.FIRMNAME,\n",
    "    target.FIRMCLASS = source.FIRMCLASS,\n",
    "    target.vip = source.vip,\n",
    "    target.timestamp = source.timestamp,\n",
    "    target.reason = source.reason,\n",
    "    target.list_id = source.list_id,\n",
    "    target.list_is_active = source.list_is_active\n",
    "WHEN NOT MATCHED THEN\n",
    "  INSERT (\n",
    "    email_id, email_address, FNAME, LNAME, ADDRESS, PHONE, FIRMNAME, FIRMCLASS, vip, timestamp, reason, campaign_id, list_id, list_is_active\n",
    "  ) \n",
    "  VALUES (\n",
    "    source.email_id, source.email_address, source.FNAME, source.LNAME, source.ADDRESS, source.PHONE, source.FIRMNAME, source.FIRMCLASS,\n",
    "    source.vip, source.timestamp, source.reason, source.campaign_id, source.list_id, source.list_is_active\n",
    "  );\n"
   ]
  },
  {
   "cell_type": "code",
   "execution_count": null,
   "metadata": {
    "application/vnd.databricks.v1+cell": {
     "cellMetadata": {
      "byteLimit": 2048000,
      "rowLimit": 10000
     },
     "inputWidgets": {},
     "nuid": "1ac3a05c-ab0f-465c-aac2-f9d545455ba9",
     "showTitle": false,
     "title": ""
    }
   },
   "outputs": [],
   "source": [
    "# hash emails\n",
    "subscriber_hashes = [hashlib.md5(email.lower().encode()).hexdigest() for email in emails]"
   ]
  },
  {
   "cell_type": "code",
   "execution_count": null,
   "metadata": {
    "application/vnd.databricks.v1+cell": {
     "cellMetadata": {
      "byteLimit": 2048000,
      "rowLimit": 10000
     },
     "inputWidgets": {},
     "nuid": "840c2425-c8f7-4f47-b6ff-a993433038f8",
     "showTitle": true,
     "title": "Individual Click Info"
    }
   },
   "outputs": [],
   "source": [
    "all_activity = []\n",
    "for subscriber_hash in subscriber_hashes:\n",
    "     try:\n",
    "        # pagination is not supported with this method\n",
    "        response = client.lists.get_list_member_activity(list_id, subscriber_hash)\n",
    "        activity = response['activity']\n",
    "        email_id = response['email_id']\n",
    "        \n",
    "        if activity:\n",
    "            for entry in activity:\n",
    "                entry['email_id'] = email_id\n",
    "            all_activity.extend(activity)\n",
    "        else:\n",
    "            break\n",
    "     except ApiClientError as error:\n",
    "        print(\"Error: {}\".format(error.text))\n"
   ]
  },
  {
   "cell_type": "code",
   "execution_count": null,
   "metadata": {
    "application/vnd.databricks.v1+cell": {
     "cellMetadata": {
      "byteLimit": 2048000,
      "rowLimit": 10000
     },
     "inputWidgets": {},
     "nuid": "9fe3b1b9-e166-4eca-99e2-fc44b01d0bd3",
     "showTitle": false,
     "title": ""
    },
    "jupyter": {
     "outputs_hidden": true
    }
   },
   "outputs": [],
   "source": [
    "df = pd.DataFrame(all_activity)\n",
    "clicks = spark.createDataFrame(df)\n",
    "clicks = clicks.select(\"action\", \"timestamp\", \"campaign_id\", \"title\", \"email_id\", \"url\").distinct()\n",
    "# display(clicks)"
   ]
  },
  {
   "cell_type": "code",
   "execution_count": null,
   "metadata": {
    "application/vnd.databricks.v1+cell": {
     "cellMetadata": {
      "byteLimit": 2048000,
      "rowLimit": 10000
     },
     "inputWidgets": {},
     "nuid": "8c13019a-9761-4ebe-84da-ee5753e328d3",
     "showTitle": false,
     "title": ""
    }
   },
   "outputs": [],
   "source": [
    "clicks.createOrReplaceTempView(\"temp_table7\")"
   ]
  },
  {
   "cell_type": "code",
   "execution_count": null,
   "metadata": {
    "application/vnd.databricks.v1+cell": {
     "cellMetadata": {
      "byteLimit": 2048000,
      "implicitDf": true,
      "rowLimit": 10000
     },
     "inputWidgets": {},
     "nuid": "31a57518-963d-42e2-9824-496de42fdc69",
     "showTitle": false,
     "title": ""
    }
   },
   "outputs": [],
   "source": [
    "%sql\n",
    "MERGE INTO common.MailChimp_AFDR_Campaign_MemberActivity AS target\n",
    "USING temp_table7 AS source \n",
    "\n",
    "ON target.email_id = source.email_id \n",
    "   AND target.timestamp = source.timestamp\n",
    "   AND target.campaign_id = source.campaign_id\n",
    "   AND target.url = source.url\n",
    "\n",
    "WHEN MATCHED THEN\n",
    "    UPDATE SET \n",
    "        target.action = source.action,\n",
    "        target.title = source.title\n",
    "\n",
    "WHEN NOT MATCHED THEN\n",
    "    INSERT (\n",
    "        action,  \n",
    "        timestamp,  \n",
    "        campaign_id, \n",
    "        title, \n",
    "        email_id, \n",
    "        url\n",
    "    )\n",
    "    VALUES (\n",
    "        source.action, \n",
    "        source.timestamp, \n",
    "        source.campaign_id, \n",
    "        source.title, \n",
    "        source.email_id, \n",
    "        source.url\n",
    "    );\n"
   ]
  },
  {
   "cell_type": "code",
   "execution_count": null,
   "metadata": {
    "application/vnd.databricks.v1+cell": {
     "cellMetadata": {
      "byteLimit": 2048000,
      "implicitDf": true,
      "rowLimit": 10000
     },
     "inputWidgets": {},
     "nuid": "c164dc52-cc8e-4148-9070-2785a7d8defc",
     "showTitle": false,
     "title": ""
    }
   },
   "outputs": [],
   "source": [
    "%sql\n",
    "OPTIMIZE common.MailChimp_AFDR_Campaign_MemberActivity ZORDER BY (action, url);"
   ]
  },
  {
   "cell_type": "code",
   "execution_count": null,
   "metadata": {
    "application/vnd.databricks.v1+cell": {
     "cellMetadata": {
      "byteLimit": 2048000,
      "rowLimit": 10000
     },
     "inputWidgets": {},
     "nuid": "970d4760-9d5f-451a-9137-6f4082ee8605",
     "showTitle": true,
     "title": "Firm Class Temp Update"
    }
   },
   "outputs": [],
   "source": [
    "df = spark.table('common.MailChimp_AFDR_Members')\n",
    "df1 = spark.read.format(\"csv\").option(\"header\", \"true\").load(\"dbfs:/FileStore/shared_uploads/aletia@bondcliq.com/MC_Import.csv\")\n",
    "\n",
    "from pyspark.sql import functions as F\n",
    "\n",
    "# Rename the columns in df1 before joining\n",
    "df1_renamed = df1.withColumnRenamed(\"email\", \"df1_email\").withColumnRenamed(\"firmclass\", \"df1_firmclass\")\n",
    "\n",
    "# Join df with df1_renamed on their respective email columns\n",
    "joined_df = df.join(df1_renamed.select(\"df1_email\", \"df1_firmclass\"), df[\"email_address\"] == df1_renamed[\"df1_email\"], how=\"left\")\n",
    "\n",
    "# Update the FIRMCLASS column with values from df1's firmclass\n",
    "updated_df = joined_df.withColumn(\"FIRMCLASS\", F.coalesce(joined_df[\"df1_firmclass\"], joined_df[\"FIRMCLASS\"]))\n",
    "\n",
    "# Add an updated_flag column: 1 if FIRMCLASS was updated, 0 otherwise\n",
    "updated_df = updated_df.withColumn(\"updated_flag\", F.when(joined_df[\"df1_firmclass\"].isNotNull(), 1).otherwise(0))\n",
    "\n",
    "# Drop df1's firmclass and email columns if they're not required anymore\n",
    "final_df = updated_df.drop(\"df1_firmclass\").drop(\"df1_email\")\n",
    "\n",
    "table_path = \"temp_db.mc_ClassUpdate_members_AFDR\"\n",
    "final_df.write.format(\"delta\").mode(\"overwrite\").saveAsTable(table_path)"
   ]
  }
 ],
 "metadata": {
  "application/vnd.databricks.v1+notebook": {
   "dashboards": [],
   "language": "python",
   "notebookMetadata": {
    "mostRecentlyExecutedCommandWithImplicitDF": {
     "commandId": 1544315724320531,
     "dataframes": [
      "_sqldf"
     ]
    },
    "pythonIndentUnit": 4
   },
   "notebookName": "NB_Pipeline_MailChimp_AFDR_data_collection",
   "widgets": {}
  },
  "language_info": {
   "name": "python"
  }
 },
 "nbformat": 4,
 "nbformat_minor": 0
}
